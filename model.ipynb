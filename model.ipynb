{
 "cells": [
  {
   "cell_type": "code",
   "execution_count": 1,
   "metadata": {},
   "outputs": [
    {
     "name": "stderr",
     "output_type": "stream",
     "text": [
      "Using TensorFlow backend.\n"
     ]
    },
    {
     "name": "stdout",
     "output_type": "stream",
     "text": [
      "All libraries imported successfully\n"
     ]
    }
   ],
   "source": [
    "# import libraries here\n",
    "\n",
    "import pickle\n",
    "import os\n",
    "from urllib.request import urlretrieve\n",
    "from zipfile import ZipFile\n",
    "import random\n",
    "\n",
    "import csv\n",
    "import cv2\n",
    "import numpy as np\n",
    "from keras.models import Sequential\n",
    "from keras.layers import Flatten, Dense, Lambda, Cropping2D, Activation, Dropout\n",
    "from keras.layers.convolutional import Convolution2D\n",
    "from keras.layers.pooling import MaxPooling2D\n",
    "\n",
    "print('All libraries imported successfully')"
   ]
  },
  {
   "cell_type": "code",
   "execution_count": 2,
   "metadata": {},
   "outputs": [
    {
     "name": "stdout",
     "output_type": "stream",
     "text": [
      "All files downloaded.\n"
     ]
    }
   ],
   "source": [
    "# downloading data\n",
    "\n",
    "def download(url, file):\n",
    "    if not os.path.isfile(file):\n",
    "        print('Downloading ' + file + '...')\n",
    "        urlretrieve(url, file)\n",
    "        print('Download Finished')\n",
    "        #Unzip the downloaded file to get pickled data\n",
    "        zip = ZipFile('data.zip')\n",
    "        zip.extractall()\n",
    "\n",
    "# Downloading the training and test dataset.\n",
    "download('https://d17h27t6h515a5.cloudfront.net/topher/2016/December/584f6edd_data/data.zip', 'data.zip')\n",
    "\n",
    "# Wait until you see that all files have been downloaded.\n",
    "print('All files downloaded.')"
   ]
  },
  {
   "cell_type": "code",
   "execution_count": 3,
   "metadata": {},
   "outputs": [
    {
     "name": "stdout",
     "output_type": "stream",
     "text": [
      "mesurement file read successful\n"
     ]
    }
   ],
   "source": [
    "# reading measurement file\n",
    "\n",
    "lines = []\n",
    "\n",
    "with open('./data/driving_log.csv') as csv_file:\n",
    "    reader = csv.reader(csv_file)\n",
    "    for line in reader:\n",
    "        lines.append(line)\n",
    "        \n",
    "print('mesurement file read successful')"
   ]
  },
  {
   "cell_type": "code",
   "execution_count": 7,
   "metadata": {},
   "outputs": [
    {
     "name": "stdout",
     "output_type": "stream",
     "text": [
      "data reading completed.\n"
     ]
    }
   ],
   "source": [
    "# reading images and measurements from measurement file\n",
    "\n",
    "images = []\n",
    "measurements = []\n",
    "\n",
    "for line in lines[1:]:\n",
    "    # reading center image\n",
    "    r = random.uniform(0,1)\n",
    "    if r <= 0.3:\n",
    "        source_path = line[1]\n",
    "        file_name = source_path.split('/')[-1]\n",
    "        current_path = './data/IMG/' + file_name\n",
    "        image = cv2.imread(current_path)\n",
    "        measurement = float(line[3]) + 0.25\n",
    "        images.append(image)\n",
    "        measurements.append(measurement)\n",
    "    if r > 0.2 and r < 0.8:\n",
    "        source_path = line[0]\n",
    "        file_name = source_path.split('/')[-1]\n",
    "        current_path = './data/IMG/' + file_name\n",
    "        image = cv2.imread(current_path)\n",
    "        measurement = float(line[3])\n",
    "        images.append(image)\n",
    "        measurements.append(measurement)\n",
    "    if r >= 0.7:\n",
    "        source_path = line[2]\n",
    "        file_name = source_path.split('/')[-1]\n",
    "        current_path = './data/IMG/' + file_name\n",
    "        image = cv2.imread(current_path)\n",
    "        measurement = float(line[3]) - 0.25\n",
    "        images.append(image)\n",
    "        measurements.append(measurement)\n",
    "\n",
    "X_train = np.array(images)\n",
    "y_train = np.array(measurements)\n",
    "\n",
    "print('data reading completed.')"
   ]
  },
  {
   "cell_type": "code",
   "execution_count": 8,
   "metadata": {},
   "outputs": [
    {
     "name": "stdout",
     "output_type": "stream",
     "text": [
      "____________________________________________________________________________________________________\n",
      "Layer (type)                     Output Shape          Param #     Connected to                     \n",
      "====================================================================================================\n",
      "lambda_2 (Lambda)                (None, 160, 320, 3)   0           lambda_input_2[0][0]             \n",
      "____________________________________________________________________________________________________\n",
      "cropping2d_2 (Cropping2D)        (None, 65, 320, 3)    0           lambda_2[0][0]                   \n",
      "____________________________________________________________________________________________________\n",
      "convolution2d_7 (Convolution2D)  (None, 31, 158, 24)   1824        cropping2d_2[0][0]               \n",
      "____________________________________________________________________________________________________\n",
      "convolution2d_8 (Convolution2D)  (None, 27, 154, 24)   14424       convolution2d_7[0][0]            \n",
      "____________________________________________________________________________________________________\n",
      "convolution2d_9 (Convolution2D)  (None, 12, 75, 36)    21636       convolution2d_8[0][0]            \n",
      "____________________________________________________________________________________________________\n",
      "convolution2d_10 (Convolution2D) (None, 5, 37, 48)     15600       convolution2d_9[0][0]            \n",
      "____________________________________________________________________________________________________\n",
      "convolution2d_11 (Convolution2D) (None, 3, 35, 64)     27712       convolution2d_10[0][0]           \n",
      "____________________________________________________________________________________________________\n",
      "convolution2d_12 (Convolution2D) (None, 1, 33, 80)     46160       convolution2d_11[0][0]           \n",
      "____________________________________________________________________________________________________\n",
      "flatten_2 (Flatten)              (None, 2640)          0           convolution2d_12[0][0]           \n",
      "____________________________________________________________________________________________________\n",
      "dense_5 (Dense)                  (None, 100)           264100      flatten_2[0][0]                  \n",
      "____________________________________________________________________________________________________\n",
      "activation_4 (Activation)        (None, 100)           0           dense_5[0][0]                    \n",
      "____________________________________________________________________________________________________\n",
      "dense_6 (Dense)                  (None, 50)            5050        activation_4[0][0]               \n",
      "____________________________________________________________________________________________________\n",
      "activation_5 (Activation)        (None, 50)            0           dense_6[0][0]                    \n",
      "____________________________________________________________________________________________________\n",
      "dense_7 (Dense)                  (None, 10)            510         activation_5[0][0]               \n",
      "____________________________________________________________________________________________________\n",
      "activation_6 (Activation)        (None, 10)            0           dense_7[0][0]                    \n",
      "____________________________________________________________________________________________________\n",
      "dense_8 (Dense)                  (None, 1)             11          activation_6[0][0]               \n",
      "====================================================================================================\n",
      "Total params: 397,027\n",
      "Trainable params: 397,027\n",
      "Non-trainable params: 0\n",
      "____________________________________________________________________________________________________\n"
     ]
    }
   ],
   "source": [
    "# generating model\n",
    "\n",
    "model = Sequential()\n",
    "\n",
    "# Pre-processing data\n",
    "model.add(Lambda(lambda x: x/255.0 - 0.5, input_shape=(160,320,3)))\n",
    "model.add(Cropping2D(cropping=((70,25),(0,0))))\n",
    "\n",
    "# Layer 1: convolution layer, input 65 x 320 x 3, output 63 x 318 x 32\n",
    "#model.add(Convolution2D(24, 5, 5, subsample=(2,2),activation=\"relu\"))\n",
    "model.add(Convolution2D(24, 5, 5, subsample=(2,2), activation=\"relu\"))\n",
    "\n",
    "model.add(Convolution2D(24, 5, 5, activation=\"relu\"))\n",
    "\n",
    "# Layer 2: convolution layer\n",
    "model.add(Convolution2D(36, 5, 5, subsample=(2,2), activation=\"relu\"))\n",
    "\n",
    "# Layer 3: convolution layer\n",
    "model.add(Convolution2D(48, 3, 3, subsample=(2,2), activation=\"relu\"))\n",
    "\n",
    "model.add(Convolution2D(64, 3, 3, activation=\"relu\"))\n",
    "model.add(Convolution2D(80, 3, 3, activation=\"relu\"))\n",
    "\n",
    "model.add(Flatten())\n",
    "\n",
    "model.add(Dense(100))\n",
    "model.add(Activation(\"relu\"))\n",
    "#model.add(Dropout(0.3))\n",
    "\n",
    "model.add(Dense(50))\n",
    "model.add(Activation(\"relu\"))\n",
    "#model.add(Dropout(0.35))\n",
    "\n",
    "model.add(Dense(10))\n",
    "model.add(Activation(\"relu\"))\n",
    "#model.add(Dropout(0.2))\n",
    "\n",
    "model.add(Dense(1))\n",
    "\n",
    "model.summary()\n",
    "\n"
   ]
  },
  {
   "cell_type": "code",
   "execution_count": 9,
   "metadata": {
    "scrolled": true
   },
   "outputs": [
    {
     "name": "stdout",
     "output_type": "stream",
     "text": [
      "Train on 7724 samples, validate on 1931 samples\n",
      "Epoch 1/5\n",
      "7724/7724 [==============================] - 25s - loss: 0.0260 - val_loss: 0.0277\n",
      "Epoch 2/5\n",
      "7724/7724 [==============================] - 25s - loss: 0.0213 - val_loss: 0.0235\n",
      "Epoch 3/5\n",
      "7724/7724 [==============================] - 25s - loss: 0.0203 - val_loss: 0.0248\n",
      "Epoch 4/5\n",
      "7724/7724 [==============================] - 25s - loss: 0.0194 - val_loss: 0.0262\n",
      "Epoch 5/5\n",
      "7724/7724 [==============================] - 25s - loss: 0.0182 - val_loss: 0.0242\n"
     ]
    }
   ],
   "source": [
    "model.compile(loss='mse',optimizer='adam')\n",
    "model.fit(X_train, y_train, validation_split=0.2, shuffle=True, nb_epoch=5)\n",
    "\n",
    "model.save('model1.h5')"
   ]
  },
  {
   "cell_type": "code",
   "execution_count": null,
   "metadata": {
    "collapsed": true
   },
   "outputs": [],
   "source": []
  },
  {
   "cell_type": "code",
   "execution_count": null,
   "metadata": {
    "collapsed": true
   },
   "outputs": [],
   "source": []
  },
  {
   "cell_type": "code",
   "execution_count": null,
   "metadata": {
    "collapsed": true
   },
   "outputs": [],
   "source": []
  }
 ],
 "metadata": {
  "kernelspec": {
   "display_name": "Python [conda env:carnd-term1]",
   "language": "python",
   "name": "conda-env-carnd-term1-py"
  },
  "language_info": {
   "codemirror_mode": {
    "name": "ipython",
    "version": 3
   },
   "file_extension": ".py",
   "mimetype": "text/x-python",
   "name": "python",
   "nbconvert_exporter": "python",
   "pygments_lexer": "ipython3",
   "version": "3.5.4"
  },
  "widgets": {
   "state": {},
   "version": "1.1.2"
  }
 },
 "nbformat": 4,
 "nbformat_minor": 2
}
